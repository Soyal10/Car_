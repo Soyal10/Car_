{
 "cells": [
  {
   "cell_type": "markdown",
   "id": "20ee7ed3",
   "metadata": {},
   "source": [
    "## Importing all the necessary libaries"
   ]
  },
  {
   "cell_type": "code",
   "execution_count": 2,
   "id": "8e849ab4",
   "metadata": {},
   "outputs": [],
   "source": [
    "import numpy as np\n",
    "import matplotlib.pyplot as plt\n",
    "import pandas as pd"
   ]
  },
  {
   "cell_type": "markdown",
   "id": "7fffb596",
   "metadata": {},
   "source": [
    "##  Loading the csv data file"
   ]
  },
  {
   "cell_type": "code",
   "execution_count": 3,
   "id": "362464a2",
   "metadata": {},
   "outputs": [],
   "source": [
    "data=pd.read_csv(\"dataset.csv\")"
   ]
  },
  {
   "cell_type": "markdown",
   "id": "ce96dce1",
   "metadata": {},
   "source": [
    "## EDA "
   ]
  },
  {
   "cell_type": "code",
   "execution_count": 4,
   "id": "2e8b33de",
   "metadata": {},
   "outputs": [
    {
     "name": "stdout",
     "output_type": "stream",
     "text": [
      "<class 'pandas.core.frame.DataFrame'>\n",
      "RangeIndex: 8128 entries, 0 to 8127\n",
      "Data columns (total 12 columns):\n",
      " #   Column              Non-Null Count  Dtype  \n",
      "---  ------              --------------  -----  \n",
      " 0   name                8128 non-null   object \n",
      " 1   year                8128 non-null   int64  \n",
      " 2   selling_price       8128 non-null   int64  \n",
      " 3   km_driven           8128 non-null   int64  \n",
      " 4   fuel                8128 non-null   object \n",
      " 5   seller_type         8128 non-null   object \n",
      " 6   transmission        8128 non-null   object \n",
      " 7   owner               8128 non-null   object \n",
      " 8   mileage(km/ltr/kg)  7907 non-null   float64\n",
      " 9   engine              7907 non-null   float64\n",
      " 10  max_power           7913 non-null   object \n",
      " 11  seats               7907 non-null   float64\n",
      "dtypes: float64(3), int64(3), object(6)\n",
      "memory usage: 762.1+ KB\n"
     ]
    }
   ],
   "source": [
    "data.info()"
   ]
  },
  {
   "cell_type": "code",
   "execution_count": 5,
   "id": "c0bf2e3f",
   "metadata": {},
   "outputs": [
    {
     "data": {
      "text/html": [
       "<div>\n",
       "<style scoped>\n",
       "    .dataframe tbody tr th:only-of-type {\n",
       "        vertical-align: middle;\n",
       "    }\n",
       "\n",
       "    .dataframe tbody tr th {\n",
       "        vertical-align: top;\n",
       "    }\n",
       "\n",
       "    .dataframe thead th {\n",
       "        text-align: right;\n",
       "    }\n",
       "</style>\n",
       "<table border=\"1\" class=\"dataframe\">\n",
       "  <thead>\n",
       "    <tr style=\"text-align: right;\">\n",
       "      <th></th>\n",
       "      <th>year</th>\n",
       "      <th>selling_price</th>\n",
       "      <th>km_driven</th>\n",
       "      <th>mileage(km/ltr/kg)</th>\n",
       "      <th>engine</th>\n",
       "      <th>seats</th>\n",
       "    </tr>\n",
       "  </thead>\n",
       "  <tbody>\n",
       "    <tr>\n",
       "      <th>count</th>\n",
       "      <td>8128.000000</td>\n",
       "      <td>8.128000e+03</td>\n",
       "      <td>8.128000e+03</td>\n",
       "      <td>7907.000000</td>\n",
       "      <td>7907.000000</td>\n",
       "      <td>7907.000000</td>\n",
       "    </tr>\n",
       "    <tr>\n",
       "      <th>mean</th>\n",
       "      <td>2013.804011</td>\n",
       "      <td>6.382718e+05</td>\n",
       "      <td>6.981951e+04</td>\n",
       "      <td>19.418783</td>\n",
       "      <td>1458.625016</td>\n",
       "      <td>5.416719</td>\n",
       "    </tr>\n",
       "    <tr>\n",
       "      <th>std</th>\n",
       "      <td>4.044249</td>\n",
       "      <td>8.062534e+05</td>\n",
       "      <td>5.655055e+04</td>\n",
       "      <td>4.037145</td>\n",
       "      <td>503.916303</td>\n",
       "      <td>0.959588</td>\n",
       "    </tr>\n",
       "    <tr>\n",
       "      <th>min</th>\n",
       "      <td>1983.000000</td>\n",
       "      <td>2.999900e+04</td>\n",
       "      <td>1.000000e+00</td>\n",
       "      <td>0.000000</td>\n",
       "      <td>624.000000</td>\n",
       "      <td>2.000000</td>\n",
       "    </tr>\n",
       "    <tr>\n",
       "      <th>25%</th>\n",
       "      <td>2011.000000</td>\n",
       "      <td>2.549990e+05</td>\n",
       "      <td>3.500000e+04</td>\n",
       "      <td>16.780000</td>\n",
       "      <td>1197.000000</td>\n",
       "      <td>5.000000</td>\n",
       "    </tr>\n",
       "    <tr>\n",
       "      <th>50%</th>\n",
       "      <td>2015.000000</td>\n",
       "      <td>4.500000e+05</td>\n",
       "      <td>6.000000e+04</td>\n",
       "      <td>19.300000</td>\n",
       "      <td>1248.000000</td>\n",
       "      <td>5.000000</td>\n",
       "    </tr>\n",
       "    <tr>\n",
       "      <th>75%</th>\n",
       "      <td>2017.000000</td>\n",
       "      <td>6.750000e+05</td>\n",
       "      <td>9.800000e+04</td>\n",
       "      <td>22.320000</td>\n",
       "      <td>1582.000000</td>\n",
       "      <td>5.000000</td>\n",
       "    </tr>\n",
       "    <tr>\n",
       "      <th>max</th>\n",
       "      <td>2020.000000</td>\n",
       "      <td>1.000000e+07</td>\n",
       "      <td>2.360457e+06</td>\n",
       "      <td>42.000000</td>\n",
       "      <td>3604.000000</td>\n",
       "      <td>14.000000</td>\n",
       "    </tr>\n",
       "  </tbody>\n",
       "</table>\n",
       "</div>"
      ],
      "text/plain": [
       "              year  selling_price     km_driven  mileage(km/ltr/kg)  \\\n",
       "count  8128.000000   8.128000e+03  8.128000e+03         7907.000000   \n",
       "mean   2013.804011   6.382718e+05  6.981951e+04           19.418783   \n",
       "std       4.044249   8.062534e+05  5.655055e+04            4.037145   \n",
       "min    1983.000000   2.999900e+04  1.000000e+00            0.000000   \n",
       "25%    2011.000000   2.549990e+05  3.500000e+04           16.780000   \n",
       "50%    2015.000000   4.500000e+05  6.000000e+04           19.300000   \n",
       "75%    2017.000000   6.750000e+05  9.800000e+04           22.320000   \n",
       "max    2020.000000   1.000000e+07  2.360457e+06           42.000000   \n",
       "\n",
       "            engine        seats  \n",
       "count  7907.000000  7907.000000  \n",
       "mean   1458.625016     5.416719  \n",
       "std     503.916303     0.959588  \n",
       "min     624.000000     2.000000  \n",
       "25%    1197.000000     5.000000  \n",
       "50%    1248.000000     5.000000  \n",
       "75%    1582.000000     5.000000  \n",
       "max    3604.000000    14.000000  "
      ]
     },
     "execution_count": 5,
     "metadata": {},
     "output_type": "execute_result"
    }
   ],
   "source": [
    "data.describe()"
   ]
  },
  {
   "cell_type": "markdown",
   "id": "3f437148",
   "metadata": {},
   "source": [
    "# Detecting the outliers from the dataset and storing them in list(called outliers)and droping the outliers from the dataframe"
   ]
  },
  {
   "cell_type": "code",
   "execution_count": 9,
   "id": "e868291b",
   "metadata": {},
   "outputs": [],
   "source": [
    "outliers=[]\n",
    "mean=np.mean(data['selling_price'])\n",
    "std=np.mean(data['selling_price'])\n",
    "for i in range(len(data['selling_price'])):\n",
    "    z=(data['selling_price'][i]-mean)/std\n",
    "    if z<-3 or z>3:\n",
    "        outliers.append(data['selling_price'])\n",
    "        data.drop(index=i,inplace=True)"
   ]
  },
  {
   "cell_type": "code",
   "execution_count": 12,
   "id": "ad3f2a25",
   "metadata": {},
   "outputs": [
    {
     "name": "stdout",
     "output_type": "stream",
     "text": [
      "<class 'pandas.core.frame.DataFrame'>\n",
      "Int64Index: 7831 entries, 0 to 8127\n",
      "Data columns (total 12 columns):\n",
      " #   Column              Non-Null Count  Dtype  \n",
      "---  ------              --------------  -----  \n",
      " 0   name                7831 non-null   object \n",
      " 1   year                7831 non-null   int64  \n",
      " 2   selling_price       7831 non-null   int64  \n",
      " 3   km_driven           7831 non-null   int64  \n",
      " 4   fuel                7831 non-null   object \n",
      " 5   seller_type         7831 non-null   object \n",
      " 6   transmission        7831 non-null   object \n",
      " 7   owner               7831 non-null   object \n",
      " 8   mileage(km/ltr/kg)  7610 non-null   float64\n",
      " 9   engine              7610 non-null   float64\n",
      " 10  max_power           7616 non-null   object \n",
      " 11  seats               7610 non-null   float64\n",
      "dtypes: float64(3), int64(3), object(6)\n",
      "memory usage: 1.0+ MB\n"
     ]
    }
   ],
   "source": [
    "data.info()"
   ]
  },
  {
   "cell_type": "markdown",
   "id": "d63d5c08",
   "metadata": {},
   "source": [
    "#Doing reindexing from deleting the outliers"
   ]
  },
  {
   "cell_type": "code",
   "execution_count": 13,
   "id": "7f60f582",
   "metadata": {},
   "outputs": [
    {
     "data": {
      "text/html": [
       "<div>\n",
       "<style scoped>\n",
       "    .dataframe tbody tr th:only-of-type {\n",
       "        vertical-align: middle;\n",
       "    }\n",
       "\n",
       "    .dataframe tbody tr th {\n",
       "        vertical-align: top;\n",
       "    }\n",
       "\n",
       "    .dataframe thead th {\n",
       "        text-align: right;\n",
       "    }\n",
       "</style>\n",
       "<table border=\"1\" class=\"dataframe\">\n",
       "  <thead>\n",
       "    <tr style=\"text-align: right;\">\n",
       "      <th></th>\n",
       "      <th>name</th>\n",
       "      <th>year</th>\n",
       "      <th>selling_price</th>\n",
       "      <th>km_driven</th>\n",
       "      <th>fuel</th>\n",
       "      <th>seller_type</th>\n",
       "      <th>transmission</th>\n",
       "      <th>owner</th>\n",
       "      <th>mileage(km/ltr/kg)</th>\n",
       "      <th>engine</th>\n",
       "      <th>max_power</th>\n",
       "      <th>seats</th>\n",
       "    </tr>\n",
       "  </thead>\n",
       "  <tbody>\n",
       "    <tr>\n",
       "      <th>0</th>\n",
       "      <td>Maruti Swift Dzire VDI</td>\n",
       "      <td>2014</td>\n",
       "      <td>450000</td>\n",
       "      <td>145500</td>\n",
       "      <td>Diesel</td>\n",
       "      <td>Individual</td>\n",
       "      <td>Manual</td>\n",
       "      <td>First Owner</td>\n",
       "      <td>23.40</td>\n",
       "      <td>1248.0</td>\n",
       "      <td>74</td>\n",
       "      <td>5.0</td>\n",
       "    </tr>\n",
       "    <tr>\n",
       "      <th>1</th>\n",
       "      <td>Skoda Rapid 1.5 TDI Ambition</td>\n",
       "      <td>2014</td>\n",
       "      <td>370000</td>\n",
       "      <td>120000</td>\n",
       "      <td>Diesel</td>\n",
       "      <td>Individual</td>\n",
       "      <td>Manual</td>\n",
       "      <td>Second Owner</td>\n",
       "      <td>21.14</td>\n",
       "      <td>1498.0</td>\n",
       "      <td>103.52</td>\n",
       "      <td>5.0</td>\n",
       "    </tr>\n",
       "    <tr>\n",
       "      <th>2</th>\n",
       "      <td>Honda City 2017-2020 EXi</td>\n",
       "      <td>2006</td>\n",
       "      <td>158000</td>\n",
       "      <td>140000</td>\n",
       "      <td>Petrol</td>\n",
       "      <td>Individual</td>\n",
       "      <td>Manual</td>\n",
       "      <td>Third Owner</td>\n",
       "      <td>17.70</td>\n",
       "      <td>1497.0</td>\n",
       "      <td>78</td>\n",
       "      <td>5.0</td>\n",
       "    </tr>\n",
       "    <tr>\n",
       "      <th>3</th>\n",
       "      <td>Hyundai i20 Sportz Diesel</td>\n",
       "      <td>2010</td>\n",
       "      <td>225000</td>\n",
       "      <td>127000</td>\n",
       "      <td>Diesel</td>\n",
       "      <td>Individual</td>\n",
       "      <td>Manual</td>\n",
       "      <td>First Owner</td>\n",
       "      <td>23.00</td>\n",
       "      <td>1396.0</td>\n",
       "      <td>90</td>\n",
       "      <td>5.0</td>\n",
       "    </tr>\n",
       "    <tr>\n",
       "      <th>4</th>\n",
       "      <td>Maruti Swift VXI BSIII</td>\n",
       "      <td>2007</td>\n",
       "      <td>130000</td>\n",
       "      <td>120000</td>\n",
       "      <td>Petrol</td>\n",
       "      <td>Individual</td>\n",
       "      <td>Manual</td>\n",
       "      <td>First Owner</td>\n",
       "      <td>16.10</td>\n",
       "      <td>1298.0</td>\n",
       "      <td>88.2</td>\n",
       "      <td>5.0</td>\n",
       "    </tr>\n",
       "    <tr>\n",
       "      <th>...</th>\n",
       "      <td>...</td>\n",
       "      <td>...</td>\n",
       "      <td>...</td>\n",
       "      <td>...</td>\n",
       "      <td>...</td>\n",
       "      <td>...</td>\n",
       "      <td>...</td>\n",
       "      <td>...</td>\n",
       "      <td>...</td>\n",
       "      <td>...</td>\n",
       "      <td>...</td>\n",
       "      <td>...</td>\n",
       "    </tr>\n",
       "    <tr>\n",
       "      <th>7826</th>\n",
       "      <td>Hyundai i20 Magna</td>\n",
       "      <td>2013</td>\n",
       "      <td>320000</td>\n",
       "      <td>110000</td>\n",
       "      <td>Petrol</td>\n",
       "      <td>Individual</td>\n",
       "      <td>Manual</td>\n",
       "      <td>First Owner</td>\n",
       "      <td>18.50</td>\n",
       "      <td>1197.0</td>\n",
       "      <td>82.85</td>\n",
       "      <td>5.0</td>\n",
       "    </tr>\n",
       "    <tr>\n",
       "      <th>7827</th>\n",
       "      <td>Hyundai Verna CRDi SX</td>\n",
       "      <td>2007</td>\n",
       "      <td>135000</td>\n",
       "      <td>119000</td>\n",
       "      <td>Diesel</td>\n",
       "      <td>Individual</td>\n",
       "      <td>Manual</td>\n",
       "      <td>Fourth &amp; Above Owner</td>\n",
       "      <td>16.80</td>\n",
       "      <td>1493.0</td>\n",
       "      <td>110</td>\n",
       "      <td>5.0</td>\n",
       "    </tr>\n",
       "    <tr>\n",
       "      <th>7828</th>\n",
       "      <td>Maruti Swift Dzire ZDi</td>\n",
       "      <td>2009</td>\n",
       "      <td>382000</td>\n",
       "      <td>120000</td>\n",
       "      <td>Diesel</td>\n",
       "      <td>Individual</td>\n",
       "      <td>Manual</td>\n",
       "      <td>First Owner</td>\n",
       "      <td>19.30</td>\n",
       "      <td>1248.0</td>\n",
       "      <td>73.9</td>\n",
       "      <td>5.0</td>\n",
       "    </tr>\n",
       "    <tr>\n",
       "      <th>7829</th>\n",
       "      <td>Tata Indigo CR4</td>\n",
       "      <td>2013</td>\n",
       "      <td>290000</td>\n",
       "      <td>25000</td>\n",
       "      <td>Diesel</td>\n",
       "      <td>Individual</td>\n",
       "      <td>Manual</td>\n",
       "      <td>First Owner</td>\n",
       "      <td>23.57</td>\n",
       "      <td>1396.0</td>\n",
       "      <td>70</td>\n",
       "      <td>5.0</td>\n",
       "    </tr>\n",
       "    <tr>\n",
       "      <th>7830</th>\n",
       "      <td>Tata Indigo CR4</td>\n",
       "      <td>2013</td>\n",
       "      <td>290000</td>\n",
       "      <td>25000</td>\n",
       "      <td>Diesel</td>\n",
       "      <td>Individual</td>\n",
       "      <td>Manual</td>\n",
       "      <td>First Owner</td>\n",
       "      <td>23.57</td>\n",
       "      <td>1396.0</td>\n",
       "      <td>70</td>\n",
       "      <td>5.0</td>\n",
       "    </tr>\n",
       "  </tbody>\n",
       "</table>\n",
       "<p>7831 rows × 12 columns</p>\n",
       "</div>"
      ],
      "text/plain": [
       "                              name  year  selling_price  km_driven    fuel  \\\n",
       "0           Maruti Swift Dzire VDI  2014         450000     145500  Diesel   \n",
       "1     Skoda Rapid 1.5 TDI Ambition  2014         370000     120000  Diesel   \n",
       "2         Honda City 2017-2020 EXi  2006         158000     140000  Petrol   \n",
       "3        Hyundai i20 Sportz Diesel  2010         225000     127000  Diesel   \n",
       "4           Maruti Swift VXI BSIII  2007         130000     120000  Petrol   \n",
       "...                            ...   ...            ...        ...     ...   \n",
       "7826             Hyundai i20 Magna  2013         320000     110000  Petrol   \n",
       "7827         Hyundai Verna CRDi SX  2007         135000     119000  Diesel   \n",
       "7828        Maruti Swift Dzire ZDi  2009         382000     120000  Diesel   \n",
       "7829               Tata Indigo CR4  2013         290000      25000  Diesel   \n",
       "7830               Tata Indigo CR4  2013         290000      25000  Diesel   \n",
       "\n",
       "     seller_type transmission                 owner  mileage(km/ltr/kg)  \\\n",
       "0     Individual       Manual           First Owner               23.40   \n",
       "1     Individual       Manual          Second Owner               21.14   \n",
       "2     Individual       Manual           Third Owner               17.70   \n",
       "3     Individual       Manual           First Owner               23.00   \n",
       "4     Individual       Manual           First Owner               16.10   \n",
       "...          ...          ...                   ...                 ...   \n",
       "7826  Individual       Manual           First Owner               18.50   \n",
       "7827  Individual       Manual  Fourth & Above Owner               16.80   \n",
       "7828  Individual       Manual           First Owner               19.30   \n",
       "7829  Individual       Manual           First Owner               23.57   \n",
       "7830  Individual       Manual           First Owner               23.57   \n",
       "\n",
       "      engine max_power  seats  \n",
       "0     1248.0        74    5.0  \n",
       "1     1498.0    103.52    5.0  \n",
       "2     1497.0        78    5.0  \n",
       "3     1396.0        90    5.0  \n",
       "4     1298.0      88.2    5.0  \n",
       "...      ...       ...    ...  \n",
       "7826  1197.0     82.85    5.0  \n",
       "7827  1493.0       110    5.0  \n",
       "7828  1248.0      73.9    5.0  \n",
       "7829  1396.0        70    5.0  \n",
       "7830  1396.0        70    5.0  \n",
       "\n",
       "[7831 rows x 12 columns]"
      ]
     },
     "execution_count": 13,
     "metadata": {},
     "output_type": "execute_result"
    }
   ],
   "source": [
    "ind_val=pd.Index([i for i in range(0,7831)])\n",
    "data.set_index(ind_val)"
   ]
  },
  {
   "cell_type": "code",
   "execution_count": 14,
   "id": "a889974f",
   "metadata": {},
   "outputs": [
    {
     "data": {
      "text/plain": [
       "name                    0\n",
       "year                    0\n",
       "selling_price           0\n",
       "km_driven               0\n",
       "fuel                    0\n",
       "seller_type             0\n",
       "transmission            0\n",
       "owner                   0\n",
       "mileage(km/ltr/kg)    221\n",
       "engine                221\n",
       "max_power             215\n",
       "seats                 221\n",
       "dtype: int64"
      ]
     },
     "execution_count": 14,
     "metadata": {},
     "output_type": "execute_result"
    }
   ],
   "source": [
    "data.isnull().sum()"
   ]
  },
  {
   "cell_type": "markdown",
   "id": "202e19bf",
   "metadata": {},
   "source": [
    "# Importing LabelEncoder \n",
    "# Transforming the catergorical data into Numerical data"
   ]
  },
  {
   "cell_type": "code",
   "execution_count": 15,
   "id": "b8916eff",
   "metadata": {},
   "outputs": [],
   "source": [
    "from sklearn import preprocessing\n",
    "le = preprocessing.LabelEncoder()\n",
    "data['Name']=le.fit_transform(data['name'])\n",
    "data['Fuel']=le.fit_transform(data['fuel'])\n",
    "data['Seller_type']=le.fit_transform(data['seller_type'])\n",
    "data['Transmission']=le.fit_transform(data['transmission'])\n",
    "data['Owner']=le.fit_transform(data['owner'])"
   ]
  },
  {
   "cell_type": "markdown",
   "id": "e74d69d8",
   "metadata": {},
   "source": [
    "Droping the catergorical data from the  dataframe"
   ]
  },
  {
   "cell_type": "code",
   "execution_count": 17,
   "id": "75c45101",
   "metadata": {},
   "outputs": [],
   "source": [
    "data.drop(['name','fuel','seller_type','transmission','owner'],axis=1,inplace=True)"
   ]
  },
  {
   "cell_type": "code",
   "execution_count": 19,
   "id": "8c68fc8a",
   "metadata": {},
   "outputs": [
    {
     "data": {
      "text/html": [
       "<div>\n",
       "<style scoped>\n",
       "    .dataframe tbody tr th:only-of-type {\n",
       "        vertical-align: middle;\n",
       "    }\n",
       "\n",
       "    .dataframe tbody tr th {\n",
       "        vertical-align: top;\n",
       "    }\n",
       "\n",
       "    .dataframe thead th {\n",
       "        text-align: right;\n",
       "    }\n",
       "</style>\n",
       "<table border=\"1\" class=\"dataframe\">\n",
       "  <thead>\n",
       "    <tr style=\"text-align: right;\">\n",
       "      <th></th>\n",
       "      <th>year</th>\n",
       "      <th>selling_price</th>\n",
       "      <th>km_driven</th>\n",
       "      <th>mileage(km/ltr/kg)</th>\n",
       "      <th>engine</th>\n",
       "      <th>max_power</th>\n",
       "      <th>seats</th>\n",
       "      <th>Name</th>\n",
       "      <th>Fuel</th>\n",
       "      <th>Seller_type</th>\n",
       "      <th>Transmission</th>\n",
       "      <th>Owner</th>\n",
       "    </tr>\n",
       "  </thead>\n",
       "  <tbody>\n",
       "    <tr>\n",
       "      <th>0</th>\n",
       "      <td>2014</td>\n",
       "      <td>450000</td>\n",
       "      <td>145500</td>\n",
       "      <td>23.40</td>\n",
       "      <td>1248.0</td>\n",
       "      <td>74</td>\n",
       "      <td>5.0</td>\n",
       "      <td>1285</td>\n",
       "      <td>1</td>\n",
       "      <td>1</td>\n",
       "      <td>1</td>\n",
       "      <td>0</td>\n",
       "    </tr>\n",
       "    <tr>\n",
       "      <th>1</th>\n",
       "      <td>2014</td>\n",
       "      <td>370000</td>\n",
       "      <td>120000</td>\n",
       "      <td>21.14</td>\n",
       "      <td>1498.0</td>\n",
       "      <td>103.52</td>\n",
       "      <td>5.0</td>\n",
       "      <td>1571</td>\n",
       "      <td>1</td>\n",
       "      <td>1</td>\n",
       "      <td>1</td>\n",
       "      <td>2</td>\n",
       "    </tr>\n",
       "    <tr>\n",
       "      <th>2</th>\n",
       "      <td>2006</td>\n",
       "      <td>158000</td>\n",
       "      <td>140000</td>\n",
       "      <td>17.70</td>\n",
       "      <td>1497.0</td>\n",
       "      <td>78</td>\n",
       "      <td>5.0</td>\n",
       "      <td>369</td>\n",
       "      <td>3</td>\n",
       "      <td>1</td>\n",
       "      <td>1</td>\n",
       "      <td>4</td>\n",
       "    </tr>\n",
       "    <tr>\n",
       "      <th>3</th>\n",
       "      <td>2010</td>\n",
       "      <td>225000</td>\n",
       "      <td>127000</td>\n",
       "      <td>23.00</td>\n",
       "      <td>1396.0</td>\n",
       "      <td>90</td>\n",
       "      <td>5.0</td>\n",
       "      <td>765</td>\n",
       "      <td>1</td>\n",
       "      <td>1</td>\n",
       "      <td>1</td>\n",
       "      <td>0</td>\n",
       "    </tr>\n",
       "    <tr>\n",
       "      <th>4</th>\n",
       "      <td>2007</td>\n",
       "      <td>130000</td>\n",
       "      <td>120000</td>\n",
       "      <td>16.10</td>\n",
       "      <td>1298.0</td>\n",
       "      <td>88.2</td>\n",
       "      <td>5.0</td>\n",
       "      <td>1327</td>\n",
       "      <td>3</td>\n",
       "      <td>1</td>\n",
       "      <td>1</td>\n",
       "      <td>0</td>\n",
       "    </tr>\n",
       "  </tbody>\n",
       "</table>\n",
       "</div>"
      ],
      "text/plain": [
       "   year  selling_price  km_driven  mileage(km/ltr/kg)  engine max_power  \\\n",
       "0  2014         450000     145500               23.40  1248.0        74   \n",
       "1  2014         370000     120000               21.14  1498.0    103.52   \n",
       "2  2006         158000     140000               17.70  1497.0        78   \n",
       "3  2010         225000     127000               23.00  1396.0        90   \n",
       "4  2007         130000     120000               16.10  1298.0      88.2   \n",
       "\n",
       "   seats  Name  Fuel  Seller_type  Transmission  Owner  \n",
       "0    5.0  1285     1            1             1      0  \n",
       "1    5.0  1571     1            1             1      2  \n",
       "2    5.0   369     3            1             1      4  \n",
       "3    5.0   765     1            1             1      0  \n",
       "4    5.0  1327     3            1             1      0  "
      ]
     },
     "execution_count": 19,
     "metadata": {},
     "output_type": "execute_result"
    }
   ],
   "source": [
    "data.head()"
   ]
  },
  {
   "cell_type": "code",
   "execution_count": 25,
   "id": "0db669fd",
   "metadata": {
    "scrolled": true
   },
   "outputs": [
    {
     "data": {
      "text/plain": [
       "array(['74', '103.52', '78', '90', '88.2', '81.86', '57.5', '37', '67.1',\n",
       "       '68.1', '108.45', '60', '73.9', nan, '67', '82', '88.5', '46.3',\n",
       "       '88.73', '64.1', '98.6', '88.8', '83.81', '83.1', '47.3', '73.8',\n",
       "       '34.2', '35', '81.83', '40.3', '121.3', '138.03', '160.77',\n",
       "       '117.3', '116.3', '83.14', '67.05', '168.5', '100', '120.7',\n",
       "       '98.63', '175.56', '103.25', '171.5', '100.6', '174.33', '187.74',\n",
       "       '170', '78.9', '88.76', '86.8', '108.495', '108.62', '93.7',\n",
       "       '103.6', '98.59', '189', '67.04', '68.05', '58.2', '82.85', '81.8',\n",
       "       '73', '120', '94.68', '160', '65', '155', '69.01', '126.32',\n",
       "       '138.1', '83.8', '126.2', '98.96', '62.1', '86.7', '177.46', '141',\n",
       "       '117.6', '150', '147.5', '108.5', '103.5', '183', '190', '157.7',\n",
       "       '164.7', '91.1', '68', '75', '85.8', '87.2', '53', '118', '103.2',\n",
       "       '83', '84', '58.16', '147.94', '74.02', '53.3', '80', '88.7',\n",
       "       '97.7', '121.36', '162', '140', '94', '100.57', '82.9', '83.11',\n",
       "       '70', '153.86', '121', '126.3', '73.97', '171', '69', '99.6',\n",
       "       '102', '105', '63', '79.4', '97.9', '63.1', '66.1', '110', '53.26',\n",
       "       '73.75', '67.06', '64.08', '37.5', '189.3', '158.8', '61.7',\n",
       "       '55.2', '71.01', '73.74', '147.9', '71', '77', '121.4', '113.4',\n",
       "       '47', '130', '57.6', '138', '52.8', '53.64', '53.5', '76.8',\n",
       "       '82.4', '113.42', '76', '84.8', '0', '56.3', '174.5', '218', '112',\n",
       "       '92', '105.5', '169', '95', '72.4', '115', '152', '91.2', '156',\n",
       "       '74.9', '62', '105.3', '73.94', '85', '118.3', '72', '147.51',\n",
       "       '58', '64', '126.24', '76.9', '194.3', '99.23', '89.84', '123.7',\n",
       "       '118.35', '99', '104.68', '37.48', '104', '63.12', '91.7', '102.5',\n",
       "       '177.6', '45', '123.37', '147.8', '184', '84.48', '68.07', '74.96',\n",
       "       '167.6', '152.87', '112.2', '83.83', '110.4', '104.55', '103',\n",
       "       '103.3', '66', '108.6', '165', '163.7', '116.9', '94.93', '127',\n",
       "       '198.5', '179.5', '120.69', '121.31', '138.08', '197', '187.7',\n",
       "       '80.8', '86.79', '93.87', '116.6', '241.4', '92.7', '88', '58.33',\n",
       "       '78.8', '64.4', '125', '139.01', '136', '181', '258', '55.23',\n",
       "       '270.9', '157.75', '101', '143', '186', '187.4', '64.9', '148',\n",
       "       '35.5', '89.75', '204', '32.8', '91.72', '106', '98.97', '66.6',\n",
       "       '86', '65.3', '98.82', '198.25', '38', '142', '132', '178',\n",
       "       '163.2', '177.5', '175', '57', '80.84', '68.4', '167.67', '170.63',\n",
       "       '52', '149.5', '48.21', '177', ' ', '201.1', '100.5', '144',\n",
       "       '168.7', '104.5', '103.26', '116.4', '98.79', '80.9', '58.3',\n",
       "       '272', '235', '167.62', '139.46', '158', '110.5', '82.5', '141.1',\n",
       "       '38.4', '197.2', '161', '122.4', '134.1', '60.2', '134', '203',\n",
       "       '135.1'], dtype=object)"
      ]
     },
     "execution_count": 25,
     "metadata": {},
     "output_type": "execute_result"
    }
   ],
   "source": [
    "#data['mileage(km/ltr/kg)'].unique() #use mean\n",
    "#data['engine'].unique()     #use mode\n",
    "data['max_power'].unique()  #use mean\n",
    "#data['seats'].unique()      #use mode"
   ]
  },
  {
   "cell_type": "markdown",
   "id": "538d748d",
   "metadata": {},
   "source": [
    "# Handling the all missing values"
   ]
  },
  {
   "cell_type": "code",
   "execution_count": 52,
   "id": "b0ff90b0",
   "metadata": {},
   "outputs": [],
   "source": [
    "\n",
    "data['mileage(km/ltr/kg)'].fillna(np.mean(data['mileage(km/ltr/kg)']),inplace=True)\n",
    "\n",
    "data['engine'].fillna(data['engine'].mode()[0],inplace=True)\n",
    "\n",
    "\n",
    "data['seats'].fillna(data['seats'].mode()[0],inplace=True)\n"
   ]
  },
  {
   "cell_type": "code",
   "execution_count": 62,
   "id": "eb676619",
   "metadata": {},
   "outputs": [],
   "source": [
    "data.drop(['max_power'],axis=1,inplace=True)"
   ]
  },
  {
   "cell_type": "markdown",
   "id": "7b855825",
   "metadata": {},
   "source": [
    "# Finding the correlation between each features and the label"
   ]
  },
  {
   "cell_type": "code",
   "execution_count": 63,
   "id": "9c134d27",
   "metadata": {},
   "outputs": [
    {
     "data": {
      "text/html": [
       "<div>\n",
       "<style scoped>\n",
       "    .dataframe tbody tr th:only-of-type {\n",
       "        vertical-align: middle;\n",
       "    }\n",
       "\n",
       "    .dataframe tbody tr th {\n",
       "        vertical-align: top;\n",
       "    }\n",
       "\n",
       "    .dataframe thead th {\n",
       "        text-align: right;\n",
       "    }\n",
       "</style>\n",
       "<table border=\"1\" class=\"dataframe\">\n",
       "  <thead>\n",
       "    <tr style=\"text-align: right;\">\n",
       "      <th></th>\n",
       "      <th>year</th>\n",
       "      <th>selling_price</th>\n",
       "      <th>km_driven</th>\n",
       "      <th>mileage(km/ltr/kg)</th>\n",
       "      <th>engine</th>\n",
       "      <th>seats</th>\n",
       "      <th>Name</th>\n",
       "      <th>Fuel</th>\n",
       "      <th>Seller_type</th>\n",
       "      <th>Transmission</th>\n",
       "      <th>Owner</th>\n",
       "    </tr>\n",
       "  </thead>\n",
       "  <tbody>\n",
       "    <tr>\n",
       "      <th>year</th>\n",
       "      <td>1.000000</td>\n",
       "      <td>0.529868</td>\n",
       "      <td>-0.398695</td>\n",
       "      <td>0.343602</td>\n",
       "      <td>-0.023006</td>\n",
       "      <td>0.020863</td>\n",
       "      <td>-0.009391</td>\n",
       "      <td>-0.031267</td>\n",
       "      <td>-0.090388</td>\n",
       "      <td>-0.171649</td>\n",
       "      <td>-0.467228</td>\n",
       "    </tr>\n",
       "    <tr>\n",
       "      <th>selling_price</th>\n",
       "      <td>0.529868</td>\n",
       "      <td>1.000000</td>\n",
       "      <td>-0.192281</td>\n",
       "      <td>-0.102864</td>\n",
       "      <td>0.481518</td>\n",
       "      <td>0.216665</td>\n",
       "      <td>0.077262</td>\n",
       "      <td>-0.257314</td>\n",
       "      <td>-0.136384</td>\n",
       "      <td>-0.426687</td>\n",
       "      <td>-0.285586</td>\n",
       "    </tr>\n",
       "    <tr>\n",
       "      <th>km_driven</th>\n",
       "      <td>-0.398695</td>\n",
       "      <td>-0.192281</td>\n",
       "      <td>1.000000</td>\n",
       "      <td>-0.195662</td>\n",
       "      <td>0.261175</td>\n",
       "      <td>0.215300</td>\n",
       "      <td>0.079917</td>\n",
       "      <td>-0.290950</td>\n",
       "      <td>0.076288</td>\n",
       "      <td>0.143776</td>\n",
       "      <td>0.266891</td>\n",
       "    </tr>\n",
       "    <tr>\n",
       "      <th>mileage(km/ltr/kg)</th>\n",
       "      <td>0.343602</td>\n",
       "      <td>-0.102864</td>\n",
       "      <td>-0.195662</td>\n",
       "      <td>1.000000</td>\n",
       "      <td>-0.578626</td>\n",
       "      <td>-0.463352</td>\n",
       "      <td>-0.045782</td>\n",
       "      <td>-0.107075</td>\n",
       "      <td>-0.054470</td>\n",
       "      <td>0.145103</td>\n",
       "      <td>-0.176045</td>\n",
       "    </tr>\n",
       "    <tr>\n",
       "      <th>engine</th>\n",
       "      <td>-0.023006</td>\n",
       "      <td>0.481518</td>\n",
       "      <td>0.261175</td>\n",
       "      <td>-0.578626</td>\n",
       "      <td>1.000000</td>\n",
       "      <td>0.663777</td>\n",
       "      <td>0.116406</td>\n",
       "      <td>-0.489341</td>\n",
       "      <td>-0.009713</td>\n",
       "      <td>-0.170031</td>\n",
       "      <td>0.041328</td>\n",
       "    </tr>\n",
       "    <tr>\n",
       "      <th>seats</th>\n",
       "      <td>0.020863</td>\n",
       "      <td>0.216665</td>\n",
       "      <td>0.215300</td>\n",
       "      <td>-0.463352</td>\n",
       "      <td>0.663777</td>\n",
       "      <td>1.000000</td>\n",
       "      <td>0.097590</td>\n",
       "      <td>-0.349326</td>\n",
       "      <td>0.030466</td>\n",
       "      <td>0.049614</td>\n",
       "      <td>0.014286</td>\n",
       "    </tr>\n",
       "    <tr>\n",
       "      <th>Name</th>\n",
       "      <td>-0.009391</td>\n",
       "      <td>0.077262</td>\n",
       "      <td>0.079917</td>\n",
       "      <td>-0.045782</td>\n",
       "      <td>0.116406</td>\n",
       "      <td>0.097590</td>\n",
       "      <td>1.000000</td>\n",
       "      <td>-0.117311</td>\n",
       "      <td>0.045274</td>\n",
       "      <td>-0.023223</td>\n",
       "      <td>-0.003625</td>\n",
       "    </tr>\n",
       "    <tr>\n",
       "      <th>Fuel</th>\n",
       "      <td>-0.031267</td>\n",
       "      <td>-0.257314</td>\n",
       "      <td>-0.290950</td>\n",
       "      <td>-0.107075</td>\n",
       "      <td>-0.489341</td>\n",
       "      <td>-0.349326</td>\n",
       "      <td>-0.117311</td>\n",
       "      <td>1.000000</td>\n",
       "      <td>0.086137</td>\n",
       "      <td>-0.104979</td>\n",
       "      <td>-0.037861</td>\n",
       "    </tr>\n",
       "    <tr>\n",
       "      <th>Seller_type</th>\n",
       "      <td>-0.090388</td>\n",
       "      <td>-0.136384</td>\n",
       "      <td>0.076288</td>\n",
       "      <td>-0.054470</td>\n",
       "      <td>-0.009713</td>\n",
       "      <td>0.030466</td>\n",
       "      <td>0.045274</td>\n",
       "      <td>0.086137</td>\n",
       "      <td>1.000000</td>\n",
       "      <td>0.084301</td>\n",
       "      <td>0.114658</td>\n",
       "    </tr>\n",
       "    <tr>\n",
       "      <th>Transmission</th>\n",
       "      <td>-0.171649</td>\n",
       "      <td>-0.426687</td>\n",
       "      <td>0.143776</td>\n",
       "      <td>0.145103</td>\n",
       "      <td>-0.170031</td>\n",
       "      <td>0.049614</td>\n",
       "      <td>-0.023223</td>\n",
       "      <td>-0.104979</td>\n",
       "      <td>0.084301</td>\n",
       "      <td>1.000000</td>\n",
       "      <td>0.102272</td>\n",
       "    </tr>\n",
       "    <tr>\n",
       "      <th>Owner</th>\n",
       "      <td>-0.467228</td>\n",
       "      <td>-0.285586</td>\n",
       "      <td>0.266891</td>\n",
       "      <td>-0.176045</td>\n",
       "      <td>0.041328</td>\n",
       "      <td>0.014286</td>\n",
       "      <td>-0.003625</td>\n",
       "      <td>-0.037861</td>\n",
       "      <td>0.114658</td>\n",
       "      <td>0.102272</td>\n",
       "      <td>1.000000</td>\n",
       "    </tr>\n",
       "  </tbody>\n",
       "</table>\n",
       "</div>"
      ],
      "text/plain": [
       "                        year  selling_price  km_driven  mileage(km/ltr/kg)  \\\n",
       "year                1.000000       0.529868  -0.398695            0.343602   \n",
       "selling_price       0.529868       1.000000  -0.192281           -0.102864   \n",
       "km_driven          -0.398695      -0.192281   1.000000           -0.195662   \n",
       "mileage(km/ltr/kg)  0.343602      -0.102864  -0.195662            1.000000   \n",
       "engine             -0.023006       0.481518   0.261175           -0.578626   \n",
       "seats               0.020863       0.216665   0.215300           -0.463352   \n",
       "Name               -0.009391       0.077262   0.079917           -0.045782   \n",
       "Fuel               -0.031267      -0.257314  -0.290950           -0.107075   \n",
       "Seller_type        -0.090388      -0.136384   0.076288           -0.054470   \n",
       "Transmission       -0.171649      -0.426687   0.143776            0.145103   \n",
       "Owner              -0.467228      -0.285586   0.266891           -0.176045   \n",
       "\n",
       "                      engine     seats      Name      Fuel  Seller_type  \\\n",
       "year               -0.023006  0.020863 -0.009391 -0.031267    -0.090388   \n",
       "selling_price       0.481518  0.216665  0.077262 -0.257314    -0.136384   \n",
       "km_driven           0.261175  0.215300  0.079917 -0.290950     0.076288   \n",
       "mileage(km/ltr/kg) -0.578626 -0.463352 -0.045782 -0.107075    -0.054470   \n",
       "engine              1.000000  0.663777  0.116406 -0.489341    -0.009713   \n",
       "seats               0.663777  1.000000  0.097590 -0.349326     0.030466   \n",
       "Name                0.116406  0.097590  1.000000 -0.117311     0.045274   \n",
       "Fuel               -0.489341 -0.349326 -0.117311  1.000000     0.086137   \n",
       "Seller_type        -0.009713  0.030466  0.045274  0.086137     1.000000   \n",
       "Transmission       -0.170031  0.049614 -0.023223 -0.104979     0.084301   \n",
       "Owner               0.041328  0.014286 -0.003625 -0.037861     0.114658   \n",
       "\n",
       "                    Transmission     Owner  \n",
       "year                   -0.171649 -0.467228  \n",
       "selling_price          -0.426687 -0.285586  \n",
       "km_driven               0.143776  0.266891  \n",
       "mileage(km/ltr/kg)      0.145103 -0.176045  \n",
       "engine                 -0.170031  0.041328  \n",
       "seats                   0.049614  0.014286  \n",
       "Name                   -0.023223 -0.003625  \n",
       "Fuel                   -0.104979 -0.037861  \n",
       "Seller_type             0.084301  0.114658  \n",
       "Transmission            1.000000  0.102272  \n",
       "Owner                   0.102272  1.000000  "
      ]
     },
     "execution_count": 63,
     "metadata": {},
     "output_type": "execute_result"
    }
   ],
   "source": [
    "data.corr()\n"
   ]
  },
  {
   "cell_type": "markdown",
   "id": "0fe00835",
   "metadata": {},
   "source": [
    "# Droping the least correlated features"
   ]
  },
  {
   "cell_type": "code",
   "execution_count": 65,
   "id": "cc12c088",
   "metadata": {},
   "outputs": [],
   "source": [
    "data.drop(['Seller_type','Name','Owner'],axis=1,inplace=True)"
   ]
  },
  {
   "cell_type": "code",
   "execution_count": 69,
   "id": "287a42fe",
   "metadata": {},
   "outputs": [],
   "source": [
    "#data.drop(['Fuel'],axis=1,inplace=True)\n",
    "y=data['selling_price']\n"
   ]
  },
  {
   "cell_type": "code",
   "execution_count": 73,
   "id": "891fd527",
   "metadata": {},
   "outputs": [],
   "source": [
    "data.drop(['selling_price'],axis=1,inplace=True)\n",
    "x=data"
   ]
  },
  {
   "cell_type": "code",
   "execution_count": 74,
   "id": "b8726fe1",
   "metadata": {},
   "outputs": [
    {
     "data": {
      "text/html": [
       "<div>\n",
       "<style scoped>\n",
       "    .dataframe tbody tr th:only-of-type {\n",
       "        vertical-align: middle;\n",
       "    }\n",
       "\n",
       "    .dataframe tbody tr th {\n",
       "        vertical-align: top;\n",
       "    }\n",
       "\n",
       "    .dataframe thead th {\n",
       "        text-align: right;\n",
       "    }\n",
       "</style>\n",
       "<table border=\"1\" class=\"dataframe\">\n",
       "  <thead>\n",
       "    <tr style=\"text-align: right;\">\n",
       "      <th></th>\n",
       "      <th>year</th>\n",
       "      <th>km_driven</th>\n",
       "      <th>mileage(km/ltr/kg)</th>\n",
       "      <th>engine</th>\n",
       "      <th>seats</th>\n",
       "      <th>Transmission</th>\n",
       "    </tr>\n",
       "  </thead>\n",
       "  <tbody>\n",
       "    <tr>\n",
       "      <th>0</th>\n",
       "      <td>2014</td>\n",
       "      <td>145500</td>\n",
       "      <td>23.40</td>\n",
       "      <td>1248.0</td>\n",
       "      <td>5.0</td>\n",
       "      <td>1</td>\n",
       "    </tr>\n",
       "    <tr>\n",
       "      <th>1</th>\n",
       "      <td>2014</td>\n",
       "      <td>120000</td>\n",
       "      <td>21.14</td>\n",
       "      <td>1498.0</td>\n",
       "      <td>5.0</td>\n",
       "      <td>1</td>\n",
       "    </tr>\n",
       "    <tr>\n",
       "      <th>2</th>\n",
       "      <td>2006</td>\n",
       "      <td>140000</td>\n",
       "      <td>17.70</td>\n",
       "      <td>1497.0</td>\n",
       "      <td>5.0</td>\n",
       "      <td>1</td>\n",
       "    </tr>\n",
       "    <tr>\n",
       "      <th>3</th>\n",
       "      <td>2010</td>\n",
       "      <td>127000</td>\n",
       "      <td>23.00</td>\n",
       "      <td>1396.0</td>\n",
       "      <td>5.0</td>\n",
       "      <td>1</td>\n",
       "    </tr>\n",
       "    <tr>\n",
       "      <th>4</th>\n",
       "      <td>2007</td>\n",
       "      <td>120000</td>\n",
       "      <td>16.10</td>\n",
       "      <td>1298.0</td>\n",
       "      <td>5.0</td>\n",
       "      <td>1</td>\n",
       "    </tr>\n",
       "  </tbody>\n",
       "</table>\n",
       "</div>"
      ],
      "text/plain": [
       "   year  km_driven  mileage(km/ltr/kg)  engine  seats  Transmission\n",
       "0  2014     145500               23.40  1248.0    5.0             1\n",
       "1  2014     120000               21.14  1498.0    5.0             1\n",
       "2  2006     140000               17.70  1497.0    5.0             1\n",
       "3  2010     127000               23.00  1396.0    5.0             1\n",
       "4  2007     120000               16.10  1298.0    5.0             1"
      ]
     },
     "execution_count": 74,
     "metadata": {},
     "output_type": "execute_result"
    }
   ],
   "source": [
    "x.head()"
   ]
  },
  {
   "cell_type": "markdown",
   "id": "10762f51",
   "metadata": {},
   "source": [
    "# Importing StandardScalar and Train_Test_Split\n",
    "#  spliting and doing standarlising the data"
   ]
  },
  {
   "cell_type": "code",
   "execution_count": 75,
   "id": "000a4848",
   "metadata": {},
   "outputs": [],
   "source": [
    "from sklearn.preprocessing import StandardScaler as ss\n",
    "from sklearn.model_selection import train_test_split as tts\n"
   ]
  },
  {
   "cell_type": "code",
   "execution_count": 76,
   "id": "60ce0244",
   "metadata": {},
   "outputs": [],
   "source": [
    "x_train,x_test,y_train,y_test=tts(x,y,test_size=0.30,random_state=42)"
   ]
  },
  {
   "cell_type": "code",
   "execution_count": 77,
   "id": "98c8f1bd",
   "metadata": {},
   "outputs": [],
   "source": [
    "scalar=ss()\n",
    "x_train=scalar.fit_transform(x_train)\n",
    "x_test=scalar.transform(x_test)"
   ]
  },
  {
   "cell_type": "markdown",
   "id": "67260811",
   "metadata": {},
   "source": [
    "# Trying and implementing various regression models"
   ]
  },
  {
   "cell_type": "code",
   "execution_count": 78,
   "id": "d1026aa6",
   "metadata": {},
   "outputs": [],
   "source": [
    "from sklearn import linear_model\n",
    "clf = linear_model.Lasso(alpha=0.1)"
   ]
  },
  {
   "cell_type": "code",
   "execution_count": 79,
   "id": "3c691dcd",
   "metadata": {},
   "outputs": [
    {
     "data": {
      "text/plain": [
       "0.6129556630241166"
      ]
     },
     "execution_count": 79,
     "metadata": {},
     "output_type": "execute_result"
    }
   ],
   "source": [
    "clf.fit(x_train,y_train)\n",
    "clf.score(x_train,y_train)"
   ]
  },
  {
   "cell_type": "code",
   "execution_count": 81,
   "id": "a90cc86f",
   "metadata": {},
   "outputs": [
    {
     "data": {
      "text/plain": [
       "0.600017853870014"
      ]
     },
     "execution_count": 81,
     "metadata": {},
     "output_type": "execute_result"
    }
   ],
   "source": [
    "clf.predict(x_test)\n",
    "clf.score(x_test,y_test)"
   ]
  },
  {
   "cell_type": "code",
   "execution_count": 82,
   "id": "5a96581c",
   "metadata": {},
   "outputs": [
    {
     "data": {
      "text/plain": [
       "0.6129556630248354"
      ]
     },
     "execution_count": 82,
     "metadata": {},
     "output_type": "execute_result"
    }
   ],
   "source": [
    "from sklearn.linear_model import LinearRegression\n",
    "ll=LinearRegression()\n",
    "ll.fit(x_train,y_train)\n",
    "ll.score(x_train,y_train)"
   ]
  },
  {
   "cell_type": "code",
   "execution_count": 88,
   "id": "1ac2d451",
   "metadata": {},
   "outputs": [
    {
     "data": {
      "text/html": [
       "<style>#sk-container-id-3 {color: black;background-color: white;}#sk-container-id-3 pre{padding: 0;}#sk-container-id-3 div.sk-toggleable {background-color: white;}#sk-container-id-3 label.sk-toggleable__label {cursor: pointer;display: block;width: 100%;margin-bottom: 0;padding: 0.3em;box-sizing: border-box;text-align: center;}#sk-container-id-3 label.sk-toggleable__label-arrow:before {content: \"▸\";float: left;margin-right: 0.25em;color: #696969;}#sk-container-id-3 label.sk-toggleable__label-arrow:hover:before {color: black;}#sk-container-id-3 div.sk-estimator:hover label.sk-toggleable__label-arrow:before {color: black;}#sk-container-id-3 div.sk-toggleable__content {max-height: 0;max-width: 0;overflow: hidden;text-align: left;background-color: #f0f8ff;}#sk-container-id-3 div.sk-toggleable__content pre {margin: 0.2em;color: black;border-radius: 0.25em;background-color: #f0f8ff;}#sk-container-id-3 input.sk-toggleable__control:checked~div.sk-toggleable__content {max-height: 200px;max-width: 100%;overflow: auto;}#sk-container-id-3 input.sk-toggleable__control:checked~label.sk-toggleable__label-arrow:before {content: \"▾\";}#sk-container-id-3 div.sk-estimator input.sk-toggleable__control:checked~label.sk-toggleable__label {background-color: #d4ebff;}#sk-container-id-3 div.sk-label input.sk-toggleable__control:checked~label.sk-toggleable__label {background-color: #d4ebff;}#sk-container-id-3 input.sk-hidden--visually {border: 0;clip: rect(1px 1px 1px 1px);clip: rect(1px, 1px, 1px, 1px);height: 1px;margin: -1px;overflow: hidden;padding: 0;position: absolute;width: 1px;}#sk-container-id-3 div.sk-estimator {font-family: monospace;background-color: #f0f8ff;border: 1px dotted black;border-radius: 0.25em;box-sizing: border-box;margin-bottom: 0.5em;}#sk-container-id-3 div.sk-estimator:hover {background-color: #d4ebff;}#sk-container-id-3 div.sk-parallel-item::after {content: \"\";width: 100%;border-bottom: 1px solid gray;flex-grow: 1;}#sk-container-id-3 div.sk-label:hover label.sk-toggleable__label {background-color: #d4ebff;}#sk-container-id-3 div.sk-serial::before {content: \"\";position: absolute;border-left: 1px solid gray;box-sizing: border-box;top: 0;bottom: 0;left: 50%;z-index: 0;}#sk-container-id-3 div.sk-serial {display: flex;flex-direction: column;align-items: center;background-color: white;padding-right: 0.2em;padding-left: 0.2em;position: relative;}#sk-container-id-3 div.sk-item {position: relative;z-index: 1;}#sk-container-id-3 div.sk-parallel {display: flex;align-items: stretch;justify-content: center;background-color: white;position: relative;}#sk-container-id-3 div.sk-item::before, #sk-container-id-3 div.sk-parallel-item::before {content: \"\";position: absolute;border-left: 1px solid gray;box-sizing: border-box;top: 0;bottom: 0;left: 50%;z-index: -1;}#sk-container-id-3 div.sk-parallel-item {display: flex;flex-direction: column;z-index: 1;position: relative;background-color: white;}#sk-container-id-3 div.sk-parallel-item:first-child::after {align-self: flex-end;width: 50%;}#sk-container-id-3 div.sk-parallel-item:last-child::after {align-self: flex-start;width: 50%;}#sk-container-id-3 div.sk-parallel-item:only-child::after {width: 0;}#sk-container-id-3 div.sk-dashed-wrapped {border: 1px dashed gray;margin: 0 0.4em 0.5em 0.4em;box-sizing: border-box;padding-bottom: 0.4em;background-color: white;}#sk-container-id-3 div.sk-label label {font-family: monospace;font-weight: bold;display: inline-block;line-height: 1.2em;}#sk-container-id-3 div.sk-label-container {text-align: center;}#sk-container-id-3 div.sk-container {/* jupyter's `normalize.less` sets `[hidden] { display: none; }` but bootstrap.min.css set `[hidden] { display: none !important; }` so we also need the `!important` here to be able to override the default hidden behavior on the sphinx rendered scikit-learn.org. See: https://github.com/scikit-learn/scikit-learn/issues/21755 */display: inline-block !important;position: relative;}#sk-container-id-3 div.sk-text-repr-fallback {display: none;}</style><div id=\"sk-container-id-3\" class=\"sk-top-container\"><div class=\"sk-text-repr-fallback\"><pre>RandomForestRegressor(max_depth=6, random_state=0)</pre><b>In a Jupyter environment, please rerun this cell to show the HTML representation or trust the notebook. <br />On GitHub, the HTML representation is unable to render, please try loading this page with nbviewer.org.</b></div><div class=\"sk-container\" hidden><div class=\"sk-item\"><div class=\"sk-estimator sk-toggleable\"><input class=\"sk-toggleable__control sk-hidden--visually\" id=\"sk-estimator-id-3\" type=\"checkbox\" checked><label for=\"sk-estimator-id-3\" class=\"sk-toggleable__label sk-toggleable__label-arrow\">RandomForestRegressor</label><div class=\"sk-toggleable__content\"><pre>RandomForestRegressor(max_depth=6, random_state=0)</pre></div></div></div></div></div>"
      ],
      "text/plain": [
       "RandomForestRegressor(max_depth=6, random_state=0)"
      ]
     },
     "execution_count": 88,
     "metadata": {},
     "output_type": "execute_result"
    }
   ],
   "source": [
    "from sklearn.ensemble import RandomForestRegressor\n",
    "rfr=RandomForestRegressor(max_depth=6, random_state=0)\n",
    "rfr.fit(x_train,y_train)"
   ]
  },
  {
   "cell_type": "code",
   "execution_count": 89,
   "id": "b5f01550",
   "metadata": {},
   "outputs": [
    {
     "data": {
      "text/plain": [
       "0.8812658857680513"
      ]
     },
     "execution_count": 89,
     "metadata": {},
     "output_type": "execute_result"
    }
   ],
   "source": [
    "rfr.score(x_train,y_train)"
   ]
  },
  {
   "cell_type": "code",
   "execution_count": 91,
   "id": "c99173bd",
   "metadata": {},
   "outputs": [
    {
     "data": {
      "text/plain": [
       "0.834676564985505"
      ]
     },
     "execution_count": 91,
     "metadata": {},
     "output_type": "execute_result"
    }
   ],
   "source": [
    "rfr.predict(x_test)\n",
    "rfr.score(x_test,y_test)"
   ]
  },
  {
   "cell_type": "markdown",
   "id": "20ecaf30",
   "metadata": {},
   "source": [
    "# Dumping the best model into the file for future usage"
   ]
  },
  {
   "cell_type": "code",
   "execution_count": 97,
   "id": "d6163687",
   "metadata": {},
   "outputs": [],
   "source": [
    "import pickle\n",
    "pickle.dump(rfr,open(\"machine.pkl\",\"wb\"))"
   ]
  },
  {
   "cell_type": "code",
   "execution_count": null,
   "id": "7b0d5eef",
   "metadata": {},
   "outputs": [],
   "source": []
  }
 ],
 "metadata": {
  "kernelspec": {
   "display_name": "Python 3 (ipykernel)",
   "language": "python",
   "name": "python3"
  },
  "language_info": {
   "codemirror_mode": {
    "name": "ipython",
    "version": 3
   },
   "file_extension": ".py",
   "mimetype": "text/x-python",
   "name": "python",
   "nbconvert_exporter": "python",
   "pygments_lexer": "ipython3",
   "version": "3.10.6"
  }
 },
 "nbformat": 4,
 "nbformat_minor": 5
}
